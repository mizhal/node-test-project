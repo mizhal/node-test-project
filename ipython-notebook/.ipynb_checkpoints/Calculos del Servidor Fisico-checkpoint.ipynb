{
 "metadata": {
  "name": "",
  "signature": "sha256:9ee878f5fc17ddea02eee67ed3aed5238d39615787e30338047c38611f08327b"
 },
 "nbformat": 3,
 "nbformat_minor": 0,
 "worksheets": []
}