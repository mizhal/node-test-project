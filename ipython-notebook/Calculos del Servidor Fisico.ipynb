{
 "metadata": {
  "name": "",
  "signature": "sha256:bed07fefa693bf89f4f1f6413b73f765a6d70da0b6b9989cb8f559d0cc5dbe90"
 },
 "nbformat": 3,
 "nbformat_minor": 0,
 "worksheets": [
  {
   "cells": [
    {
     "cell_type": "code",
     "collapsed": false,
     "input": [
      "salida_free = 2056472\n",
      "print(salida_free / float(1024*1024))"
     ],
     "language": "python",
     "metadata": {},
     "outputs": [
      {
       "output_type": "stream",
       "stream": "stdout",
       "text": [
        "1.96120452881\n"
       ]
      }
     ],
     "prompt_number": 4
    }
   ],
   "metadata": {}
  }
 ]
}